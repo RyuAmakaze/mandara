{
 "cells": [
  {
   "cell_type": "markdown",
   "metadata": {},
   "source": [
    "HEIC->JPG"
   ]
  },
  {
   "cell_type": "code",
   "execution_count": 7,
   "metadata": {},
   "outputs": [],
   "source": [
    "from wand.image import Image\n",
    "from glob import glob\n",
    "from tqdm import tqdm\n",
    "import os\n",
    "\n",
    "#PATH Define\n",
    "FOLDER_PATH  = \"./2024年12月18日-1月5日 UC_marced\"\n",
    "SAVE_PATH = \"2024年12月18日-1月5日 UC_marced_JPG\"\n",
    "FILE_TYPE = \".HEIC\"\n",
    "\n",
    "def convert_heic_to_jpg(heic_path, jpg_path):\n",
    "    with Image(filename=heic_path) as img:\n",
    "        img.format = 'jpeg'\n",
    "        img.save(filename=jpg_path)"
   ]
  },
  {
   "cell_type": "code",
   "execution_count": null,
   "metadata": {},
   "outputs": [
    {
     "name": "stderr",
     "output_type": "stream",
     "text": [
      " 11%|█         | 78/734 [03:40<26:22,  2.41s/it]"
     ]
    }
   ],
   "source": [
    "files = glob(os.path.join(FOLDER_PATH, \"*\"+FILE_TYPE))\n",
    "for file in tqdm(files):\n",
    "    convert_heic_to_jpg(file, os.path.join(SAVE_PATH, os.path.basename(file).replace(FILE_TYPE, \".jepg\")))"
   ]
  }
 ],
 "metadata": {
  "kernelspec": {
   "display_name": "base",
   "language": "python",
   "name": "python3"
  },
  "language_info": {
   "codemirror_mode": {
    "name": "ipython",
    "version": 3
   },
   "file_extension": ".py",
   "mimetype": "text/x-python",
   "name": "python",
   "nbconvert_exporter": "python",
   "pygments_lexer": "ipython3",
   "version": "3.7.1"
  }
 },
 "nbformat": 4,
 "nbformat_minor": 2
}
