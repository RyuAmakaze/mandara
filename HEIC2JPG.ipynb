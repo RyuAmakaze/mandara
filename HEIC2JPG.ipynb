{
 "cells": [
  {
   "cell_type": "markdown",
   "metadata": {},
   "source": [
    "HEIC->JPG"
   ]
  },
  {
   "cell_type": "code",
   "execution_count": 13,
   "metadata": {},
   "outputs": [],
   "source": [
    "from wand.image import Image\n",
    "from glob import glob\n",
    "from tqdm import tqdm\n",
    "import os\n",
    "\n",
    "#PATH Define\n",
    "FOLDER_PATH  = \"./2024年12月18日-1月5日 UC_marced\"\n",
    "SAVE_PATH = \"2024年12月18日-1月5日 UC_marced_JPG\"\n",
    "FILE_TYPE = \".HEIC\"\n",
    "OUTPUT_FILE_TYPE = \".jpg\"\n",
    "\n",
    "def convert_heic_to_jpg(heic_path, jpg_path):\n",
    "    with Image(filename=heic_path) as img:\n",
    "        img.format = 'jpeg'\n",
    "        img.save(filename=jpg_path)"
   ]
  },
  {
   "cell_type": "code",
   "execution_count": null,
   "metadata": {},
   "outputs": [
    {
     "name": "stderr",
     "output_type": "stream",
     "text": [
      "\n",
      "  0%|          | 0/734 [00:00<?, ?it/s]\n",
      "  0%|          | 1/734 [00:03<40:24,  3.31s/it]\n",
      "  0%|          | 2/734 [00:06<40:08,  3.29s/it]\n",
      "  0%|          | 3/734 [00:09<40:26,  3.32s/it]\n",
      "  1%|          | 4/734 [00:15<49:43,  4.09s/it]\n",
      "  1%|          | 5/734 [00:19<48:41,  4.01s/it]\n",
      "  1%|          | 6/734 [00:22<44:05,  3.63s/it]\n",
      "  1%|          | 7/734 [00:25<40:18,  3.33s/it]\n",
      "  1%|          | 8/734 [00:27<36:37,  3.03s/it]\n",
      "  1%|          | 9/734 [00:29<34:12,  2.83s/it]\n",
      "  1%|▏         | 10/734 [00:32<32:27,  2.69s/it]\n",
      "  1%|▏         | 11/734 [00:34<30:05,  2.50s/it]\n",
      "  2%|▏         | 12/734 [00:35<26:00,  2.16s/it]\n",
      "  2%|▏         | 13/734 [00:36<22:34,  1.88s/it]\n",
      "  2%|▏         | 14/734 [00:38<22:35,  1.88s/it]\n",
      "  2%|▏         | 15/734 [00:40<24:00,  2.00s/it]\n",
      "  2%|▏         | 16/734 [00:42<22:13,  1.86s/it]\n",
      "  2%|▏         | 17/734 [00:43<20:52,  1.75s/it]\n",
      "  2%|▏         | 18/734 [00:45<19:19,  1.62s/it]"
     ]
    }
   ],
   "source": [
    "files = glob(os.path.join(FOLDER_PATH, \"*\"+FILE_TYPE))\n",
    "for file in tqdm(files):\n",
    "    convert_heic_to_jpg(file, os.path.join(SAVE_PATH, os.path.basename(file).replace(FILE_TYPE, OUTPUT_FILE_TYPE)))"
   ]
  }
 ],
 "metadata": {
  "kernelspec": {
   "display_name": "base",
   "language": "python",
   "name": "python3"
  },
  "language_info": {
   "codemirror_mode": {
    "name": "ipython",
    "version": 3
   },
   "file_extension": ".py",
   "mimetype": "text/x-python",
   "name": "python",
   "nbconvert_exporter": "python",
   "pygments_lexer": "ipython3",
   "version": "3.7.1"
  }
 },
 "nbformat": 4,
 "nbformat_minor": 2
}
